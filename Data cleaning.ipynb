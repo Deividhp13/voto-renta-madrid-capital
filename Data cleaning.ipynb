{
 "cells": [
  {
   "cell_type": "markdown",
   "metadata": {},
   "source": [
    "# Práctica 2"
   ]
  },
  {
   "cell_type": "markdown",
   "metadata": {},
   "source": [
    "## Limpieza de datos de votos en la Ciudad de Madrid."
   ]
  },
  {
   "cell_type": "code",
   "execution_count": 1087,
   "metadata": {},
   "outputs": [],
   "source": [
    "# Se importan las librerías.\n",
    "import pandas as pd\n",
    "import numpy as np"
   ]
  },
  {
   "cell_type": "code",
   "execution_count": 1088,
   "metadata": {},
   "outputs": [],
   "source": [
    "# Se da nombre a las columnas del dataset.\n",
    "columns = [\"Distrito\", \"Barrio\", \"Sección\", \"Mesa\", \"Censo\", \"Abstención\", \"Acumulado_1\", \"Nulos\", \"Acumulado_2\", \"Blanco\", \"Acumulado_3\"]"
   ]
  },
  {
   "cell_type": "code",
   "execution_count": 1089,
   "metadata": {},
   "outputs": [],
   "source": [
    "# Se carga el dataset, pero solo para crear la cabecera.\n",
    "partidos = pd.read_excel(\"G1240119.xls\", nrows = 8, header = None)"
   ]
  },
  {
   "cell_type": "code",
   "execution_count": 1090,
   "metadata": {},
   "outputs": [],
   "source": [
    "# Se obtiene la lista de partidos políticos.\n",
    "partidos = partidos.iloc[7:, 11:].values.tolist()[0]"
   ]
  },
  {
   "cell_type": "code",
   "execution_count": 1091,
   "metadata": {},
   "outputs": [
    {
     "name": "stdout",
     "output_type": "stream",
     "text": [
      "['PACMA', 'MAS MADRID', 'P.S.O.E.', 'PH', 'ULEG', 'Cs', 'FE de las JONS', 'PCAS-TC', 'PUM+J', 'P-LIB', 'P.P. ', 'PCTE', 'VOX', 'UPyD', 'PODEMOS-IU']\n"
     ]
    }
   ],
   "source": [
    "print(partidos)"
   ]
  },
  {
   "cell_type": "code",
   "execution_count": 1092,
   "metadata": {},
   "outputs": [],
   "source": [
    "# Se concatenan las listas de columnas.\n",
    "columns = [*columns, *partidos]"
   ]
  },
  {
   "cell_type": "code",
   "execution_count": 1093,
   "metadata": {},
   "outputs": [
    {
     "name": "stdout",
     "output_type": "stream",
     "text": [
      "['Distrito', 'Barrio', 'Sección', 'Mesa', 'Censo', 'Abstención', 'Acumulado_1', 'Nulos', 'Acumulado_2', 'Blanco', 'Acumulado_3', 'PACMA', 'MAS MADRID', 'P.S.O.E.', 'PH', 'ULEG', 'Cs', 'FE de las JONS', 'PCAS-TC', 'PUM+J', 'P-LIB', 'P.P. ', 'PCTE', 'VOX', 'UPyD', 'PODEMOS-IU']\n"
     ]
    }
   ],
   "source": [
    "print(columns)"
   ]
  },
  {
   "cell_type": "code",
   "execution_count": 1094,
   "metadata": {},
   "outputs": [],
   "source": [
    "votos = pd.read_excel(\"G1240119.xls\", skiprows = 12, skipfooter=3, header = None)"
   ]
  },
  {
   "cell_type": "code",
   "execution_count": 1095,
   "metadata": {},
   "outputs": [],
   "source": [
    "votos.columns = columns"
   ]
  },
  {
   "cell_type": "code",
   "execution_count": 1096,
   "metadata": {},
   "outputs": [],
   "source": [
    "votos['Distrito'] = votos['Distrito'].astype(str).str.zfill(2)\n",
    "votos['Sección'] = votos['Sección'].astype(str).str.zfill(3)\n",
    "votos['CodSeccion'] = votos['Distrito'].astype(str) + votos['Sección'].astype(str) "
   ]
  },
  {
   "cell_type": "code",
   "execution_count": 1097,
   "metadata": {},
   "outputs": [],
   "source": [
    "# Seleccionamos las columnas que se necesitan para la visualización.\n",
    "\n",
    "votos.drop(['Acumulado_1', 'Acumulado_2', 'Acumulado_3'], inplace=True, axis=1)"
   ]
  },
  {
   "cell_type": "code",
   "execution_count": 1098,
   "metadata": {},
   "outputs": [
    {
     "data": {
      "text/html": [
       "<div>\n",
       "<style scoped>\n",
       "    .dataframe tbody tr th:only-of-type {\n",
       "        vertical-align: middle;\n",
       "    }\n",
       "\n",
       "    .dataframe tbody tr th {\n",
       "        vertical-align: top;\n",
       "    }\n",
       "\n",
       "    .dataframe thead th {\n",
       "        text-align: right;\n",
       "    }\n",
       "</style>\n",
       "<table border=\"1\" class=\"dataframe\">\n",
       "  <thead>\n",
       "    <tr style=\"text-align: right;\">\n",
       "      <th></th>\n",
       "      <th>Distrito</th>\n",
       "      <th>Barrio</th>\n",
       "      <th>Sección</th>\n",
       "      <th>Mesa</th>\n",
       "      <th>Censo</th>\n",
       "      <th>Abstención</th>\n",
       "      <th>Nulos</th>\n",
       "      <th>Blanco</th>\n",
       "      <th>PACMA</th>\n",
       "      <th>MAS MADRID</th>\n",
       "      <th>...</th>\n",
       "      <th>FE de las JONS</th>\n",
       "      <th>PCAS-TC</th>\n",
       "      <th>PUM+J</th>\n",
       "      <th>P-LIB</th>\n",
       "      <th>P.P.</th>\n",
       "      <th>PCTE</th>\n",
       "      <th>VOX</th>\n",
       "      <th>UPyD</th>\n",
       "      <th>PODEMOS-IU</th>\n",
       "      <th>CodSeccion</th>\n",
       "    </tr>\n",
       "  </thead>\n",
       "  <tbody>\n",
       "    <tr>\n",
       "      <th>0</th>\n",
       "      <td>01</td>\n",
       "      <td>11</td>\n",
       "      <td>001</td>\n",
       "      <td>U</td>\n",
       "      <td>892</td>\n",
       "      <td>263</td>\n",
       "      <td>2</td>\n",
       "      <td>8</td>\n",
       "      <td>7</td>\n",
       "      <td>129</td>\n",
       "      <td>...</td>\n",
       "      <td>0</td>\n",
       "      <td>0</td>\n",
       "      <td>0</td>\n",
       "      <td>0</td>\n",
       "      <td>143</td>\n",
       "      <td>0</td>\n",
       "      <td>38</td>\n",
       "      <td>1</td>\n",
       "      <td>35</td>\n",
       "      <td>01001</td>\n",
       "    </tr>\n",
       "    <tr>\n",
       "      <th>1</th>\n",
       "      <td>01</td>\n",
       "      <td>11</td>\n",
       "      <td>002</td>\n",
       "      <td>U</td>\n",
       "      <td>626</td>\n",
       "      <td>227</td>\n",
       "      <td>4</td>\n",
       "      <td>0</td>\n",
       "      <td>1</td>\n",
       "      <td>115</td>\n",
       "      <td>...</td>\n",
       "      <td>0</td>\n",
       "      <td>1</td>\n",
       "      <td>1</td>\n",
       "      <td>0</td>\n",
       "      <td>68</td>\n",
       "      <td>0</td>\n",
       "      <td>27</td>\n",
       "      <td>0</td>\n",
       "      <td>37</td>\n",
       "      <td>01002</td>\n",
       "    </tr>\n",
       "    <tr>\n",
       "      <th>2</th>\n",
       "      <td>01</td>\n",
       "      <td>11</td>\n",
       "      <td>003</td>\n",
       "      <td>A</td>\n",
       "      <td>526</td>\n",
       "      <td>187</td>\n",
       "      <td>1</td>\n",
       "      <td>1</td>\n",
       "      <td>3</td>\n",
       "      <td>75</td>\n",
       "      <td>...</td>\n",
       "      <td>0</td>\n",
       "      <td>0</td>\n",
       "      <td>0</td>\n",
       "      <td>0</td>\n",
       "      <td>88</td>\n",
       "      <td>0</td>\n",
       "      <td>20</td>\n",
       "      <td>1</td>\n",
       "      <td>15</td>\n",
       "      <td>01003</td>\n",
       "    </tr>\n",
       "    <tr>\n",
       "      <th>3</th>\n",
       "      <td>01</td>\n",
       "      <td>11</td>\n",
       "      <td>003</td>\n",
       "      <td>B</td>\n",
       "      <td>665</td>\n",
       "      <td>229</td>\n",
       "      <td>4</td>\n",
       "      <td>3</td>\n",
       "      <td>5</td>\n",
       "      <td>88</td>\n",
       "      <td>...</td>\n",
       "      <td>2</td>\n",
       "      <td>0</td>\n",
       "      <td>0</td>\n",
       "      <td>3</td>\n",
       "      <td>109</td>\n",
       "      <td>1</td>\n",
       "      <td>48</td>\n",
       "      <td>0</td>\n",
       "      <td>27</td>\n",
       "      <td>01003</td>\n",
       "    </tr>\n",
       "    <tr>\n",
       "      <th>4</th>\n",
       "      <td>01</td>\n",
       "      <td>11</td>\n",
       "      <td>004</td>\n",
       "      <td>A</td>\n",
       "      <td>463</td>\n",
       "      <td>117</td>\n",
       "      <td>1</td>\n",
       "      <td>1</td>\n",
       "      <td>1</td>\n",
       "      <td>65</td>\n",
       "      <td>...</td>\n",
       "      <td>0</td>\n",
       "      <td>0</td>\n",
       "      <td>1</td>\n",
       "      <td>1</td>\n",
       "      <td>103</td>\n",
       "      <td>0</td>\n",
       "      <td>30</td>\n",
       "      <td>1</td>\n",
       "      <td>19</td>\n",
       "      <td>01004</td>\n",
       "    </tr>\n",
       "  </tbody>\n",
       "</table>\n",
       "<p>5 rows × 24 columns</p>\n",
       "</div>"
      ],
      "text/plain": [
       "  Distrito  Barrio Sección Mesa  Censo  Abstención  Nulos  Blanco  PACMA  \\\n",
       "0       01      11     001    U    892         263      2       8      7   \n",
       "1       01      11     002    U    626         227      4       0      1   \n",
       "2       01      11     003    A    526         187      1       1      3   \n",
       "3       01      11     003    B    665         229      4       3      5   \n",
       "4       01      11     004    A    463         117      1       1      1   \n",
       "\n",
       "   MAS MADRID  ...  FE de las JONS  PCAS-TC  PUM+J  P-LIB  P.P.   PCTE  VOX  \\\n",
       "0         129  ...               0        0      0      0    143     0   38   \n",
       "1         115  ...               0        1      1      0     68     0   27   \n",
       "2          75  ...               0        0      0      0     88     0   20   \n",
       "3          88  ...               2        0      0      3    109     1   48   \n",
       "4          65  ...               0        0      1      1    103     0   30   \n",
       "\n",
       "   UPyD  PODEMOS-IU  CodSeccion  \n",
       "0     1          35       01001  \n",
       "1     0          37       01002  \n",
       "2     1          15       01003  \n",
       "3     0          27       01003  \n",
       "4     1          19       01004  \n",
       "\n",
       "[5 rows x 24 columns]"
      ]
     },
     "execution_count": 1098,
     "metadata": {},
     "output_type": "execute_result"
    }
   ],
   "source": [
    "votos.head()"
   ]
  },
  {
   "cell_type": "code",
   "execution_count": 1099,
   "metadata": {},
   "outputs": [],
   "source": [
    "# Se guardan los datos limpios.\n",
    "votos.to_csv(\"votos_limpio.csv\", header = True, index = False)"
   ]
  },
  {
   "cell_type": "markdown",
   "metadata": {},
   "source": [
    "## Limpieza de Datos de Renta"
   ]
  },
  {
   "cell_type": "code",
   "execution_count": 1100,
   "metadata": {},
   "outputs": [],
   "source": [
    "columns = [\"Distrito/Barrio\", \"Renta media por persona\", \"Renta media por hogar\", '3', '4']\n",
    "xlsx = pd.ExcelFile('31097dbs_17.xlsx')\n",
    "renta = pd.read_excel(xlsx, \"Secciones\", skiprows=10, skipfooter=2, header=None, dtype={0:str})\n",
    "renta.columns = columns\n",
    "renta.drop(['3', '4'], inplace = True, axis = 1)"
   ]
  },
  {
   "cell_type": "code",
   "execution_count": 1101,
   "metadata": {},
   "outputs": [
    {
     "data": {
      "text/html": [
       "<div>\n",
       "<style scoped>\n",
       "    .dataframe tbody tr th:only-of-type {\n",
       "        vertical-align: middle;\n",
       "    }\n",
       "\n",
       "    .dataframe tbody tr th {\n",
       "        vertical-align: top;\n",
       "    }\n",
       "\n",
       "    .dataframe thead th {\n",
       "        text-align: right;\n",
       "    }\n",
       "</style>\n",
       "<table border=\"1\" class=\"dataframe\">\n",
       "  <thead>\n",
       "    <tr style=\"text-align: right;\">\n",
       "      <th></th>\n",
       "      <th>Distrito/Barrio</th>\n",
       "      <th>Renta media por persona</th>\n",
       "      <th>Renta media por hogar</th>\n",
       "    </tr>\n",
       "  </thead>\n",
       "  <tbody>\n",
       "    <tr>\n",
       "      <th>0</th>\n",
       "      <td>01001</td>\n",
       "      <td>23122</td>\n",
       "      <td>48783</td>\n",
       "    </tr>\n",
       "    <tr>\n",
       "      <th>1</th>\n",
       "      <td>01002</td>\n",
       "      <td>15211</td>\n",
       "      <td>29753</td>\n",
       "    </tr>\n",
       "    <tr>\n",
       "      <th>2</th>\n",
       "      <td>01003</td>\n",
       "      <td>17730</td>\n",
       "      <td>35395</td>\n",
       "    </tr>\n",
       "    <tr>\n",
       "      <th>3</th>\n",
       "      <td>01004</td>\n",
       "      <td>24522</td>\n",
       "      <td>51687</td>\n",
       "    </tr>\n",
       "    <tr>\n",
       "      <th>4</th>\n",
       "      <td>01006</td>\n",
       "      <td>22679</td>\n",
       "      <td>43546</td>\n",
       "    </tr>\n",
       "    <tr>\n",
       "      <th>...</th>\n",
       "      <td>...</td>\n",
       "      <td>...</td>\n",
       "      <td>...</td>\n",
       "    </tr>\n",
       "    <tr>\n",
       "      <th>2438</th>\n",
       "      <td>21029</td>\n",
       "      <td>27451</td>\n",
       "      <td>89215</td>\n",
       "    </tr>\n",
       "    <tr>\n",
       "      <th>2439</th>\n",
       "      <td>21030</td>\n",
       "      <td>15807</td>\n",
       "      <td>44027</td>\n",
       "    </tr>\n",
       "    <tr>\n",
       "      <th>2440</th>\n",
       "      <td>21031</td>\n",
       "      <td>16165</td>\n",
       "      <td>43722</td>\n",
       "    </tr>\n",
       "    <tr>\n",
       "      <th>2441</th>\n",
       "      <td>21032</td>\n",
       "      <td>20782</td>\n",
       "      <td>57049</td>\n",
       "    </tr>\n",
       "    <tr>\n",
       "      <th>2442</th>\n",
       "      <td>21033</td>\n",
       "      <td>15271</td>\n",
       "      <td>38786</td>\n",
       "    </tr>\n",
       "  </tbody>\n",
       "</table>\n",
       "<p>2443 rows × 3 columns</p>\n",
       "</div>"
      ],
      "text/plain": [
       "     Distrito/Barrio  Renta media por persona  Renta media por hogar\n",
       "0              01001                    23122                  48783\n",
       "1              01002                    15211                  29753\n",
       "2              01003                    17730                  35395\n",
       "3              01004                    24522                  51687\n",
       "4              01006                    22679                  43546\n",
       "...              ...                      ...                    ...\n",
       "2438           21029                    27451                  89215\n",
       "2439           21030                    15807                  44027\n",
       "2440           21031                    16165                  43722\n",
       "2441           21032                    20782                  57049\n",
       "2442           21033                    15271                  38786\n",
       "\n",
       "[2443 rows x 3 columns]"
      ]
     },
     "execution_count": 1101,
     "metadata": {},
     "output_type": "execute_result"
    }
   ],
   "source": [
    "renta"
   ]
  },
  {
   "cell_type": "code",
   "execution_count": 1102,
   "metadata": {},
   "outputs": [],
   "source": [
    "# Obtenemos el barrio y el distrito por separado.\n",
    "\n",
    "renta[\"Distrito\"] = renta[\"Distrito/Barrio\"].str[0:2]\n",
    "renta[\"Seccion\"] = renta[\"Distrito/Barrio\"].str[2:]"
   ]
  },
  {
   "cell_type": "code",
   "execution_count": 1103,
   "metadata": {},
   "outputs": [],
   "source": [
    "renta.to_csv(\"renta_seccion.csv\", header=True, index=False)"
   ]
  }
 ],
 "metadata": {
  "kernelspec": {
   "display_name": "Python 3",
   "language": "python",
   "name": "python3"
  },
  "language_info": {
   "codemirror_mode": {
    "name": "ipython",
    "version": 3
   },
   "file_extension": ".py",
   "mimetype": "text/x-python",
   "name": "python",
   "nbconvert_exporter": "python",
   "pygments_lexer": "ipython3",
   "version": "3.8.5"
  }
 },
 "nbformat": 4,
 "nbformat_minor": 4
}
